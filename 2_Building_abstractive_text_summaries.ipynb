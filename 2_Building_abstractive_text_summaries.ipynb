{
  "nbformat": 4,
  "nbformat_minor": 0,
  "metadata": {
    "colab": {
      "provenance": []
    },
    "kernelspec": {
      "name": "python3",
      "display_name": "Python 3"
    }
  },
  "cells": [
    {
      "cell_type": "markdown",
      "metadata": {
        "id": "4Pjmz-RORV8E"
      },
      "source": [
        "# Building abstractive text summaries\n",
        "\n",
        "In the field of text summarization, there are two primary categories of summarization, extractive and abstractive summarization.\n",
        "\n",
        "Extractive summarization takes subsections of the text and joins them together to form a summary. This is commonly backed by graph algorithms like TextRank to find the sections/sentences with the most commonality. These summaries can be highly effective but they are unable to transform text and don't have a contextual understanding.\n",
        "\n",
        "Abstractive summarization uses Natural Language Processing (NLP) models to build transformative summaries of text. This is similar to having a human read an article and asking what was it about. A human wouldn't just give a verbose reading of the text. This notebook shows how blocks of text can be summarized using an abstractive summarization pipeline. "
      ]
    },
    {
      "cell_type": "markdown",
      "metadata": {
        "id": "Dk31rbYjSTYm"
      },
      "source": [
        "# Install dependencies\n",
        "\n",
        "Install `txtai` and all dependencies. Since this notebook is using optional pipelines, we need to install the pipeline extras package."
      ]
    },
    {
      "cell_type": "code",
      "metadata": {
        "id": "XMQuuun2R06J"
      },
      "source": [
        "%%capture\n",
        "!pip install git+https://github.com/neuml/txtai#egg=txtai[pipeline]"
      ],
      "execution_count": 1,
      "outputs": []
    },
    {
      "cell_type": "markdown",
      "metadata": {
        "id": "PNPJ95cdTKSS"
      },
      "source": [
        "# Create a Summary instance\n",
        "\n",
        "The Summary instance is the main entrypoint for text summarization. This is a light-weight wrapper around the summarization pipeline in Hugging Face Transformers.\n",
        "\n",
        "In addition to the default model, additional models can be found on the [Hugging Face model hub](https://huggingface.co/models?pipeline_tag=summarization).\n"
      ]
    },
    {
      "cell_type": "code",
      "metadata": {
        "id": "nTDwXOUeTH2-"
      },
      "source": [
        "%%capture\n",
        "\n",
        "from txtai.pipeline import Summary\n",
        "\n",
        "# Create summary model\n",
        "summary = Summary()"
      ],
      "execution_count": 2,
      "outputs": []
    },
    {
      "cell_type": "markdown",
      "metadata": {
        "id": "-vGR_piwZZO6"
      },
      "source": [
        "# Summarize text\n",
        "\n",
        "The example below shows how a large block of text can be distilled down into a smaller summary."
      ]
    },
    {
      "cell_type": "code",
      "metadata": {
        "id": "-K2YJJzsVtfq",
        "colab": {
          "base_uri": "https://localhost:8080/",
          "height": 105
        },
        "outputId": "f9b1e496-dc90-49d4-8993-6ee2c9b391c0"
      },
      "source": [
        "text = ('''\n",
        "How to Make Meetings Shorter (for Real) Time is money. Reclaim your precious minutes with these strategies for in-person and virtual meetings. How to Make Virtual Meetings Shorter\n",
        "If you’re the meeting scheduler, consider doing away with one-hour or 45-minute meetings unless they’re mission-critical or involve many teams presenting updates. Ask yourself: Can we get everything done in 30 minutes? How about 15? Don’t overcommit on time you set aside in the calendar.\n",
        "Before you send the invite, ask yourself: “Do all of these people need to be at this meeting?” You can always fill in those who aren’t in attendance with a short update, if needed. Meetings with too many participants are also likely to last longer. \n",
        "The person who organized the meeting should lead the discussion and be mindful of keeping it on track and on time. If that’s you and it’s not your strong suit, assign someone else to lead the meeting. Don’t have a meeting with no one in charge; that’s a great way to wander and go too long.\n",
        "The pandemic shutdown made Zoom a tool that nearly everyone had to start using, from CEOs to K-12 students. But weirdly, people didn’t seem to get much better at navigating Zoom’s many control buttons and getting sound to work. It’s 2023 and meetings are still marred with, “Can you hear me? Am I on mute?”\n",
        "Let participants know in advance that the virtual meeting room will open up 10 minutes early for a “get your mic and camera working” grace period time. If possible, have someone in the meeting room to help get those kinks worked out.\n",
        "Be consistent with what virtual platform you use for meetings. Switching from Zoom to Microsoft Teams to Google Meet introduces more variables that can lead to delays.\n",
        "For all types of meetings, make sure there’s an agenda. Nothing makes a meeting drag longer than a lack of action items and aimless conversation.\n",
        "And speaking of conversation, put a five-minute limit (or shorter) on small talk. If a team hasn’t met in a while, some pleasantries are fine, but don’t let it derail the agenda. For regular meetings, table social chat until after the meeting. \n",
        "If participants feel rushed and are resistant to the idea of shorter meetings, remind them that time is money. You can find several “How much is this meeting costing us?” calculators that will give you a good sense of how much money long meetings waste.\n",
        "\n",
        "How to Make Hybrid and In-Person Meetings Shorter\n",
        "As with all-virtual meetings, consider opening up the online meeting room and in-person space five to 10 minutes early, and make it clear ahead of time that hybrid meetings are not going to be paused for those online to get set up.\n",
        "It’s hard to regulate people’s distractions when they’re not in the room, but for anyone participating in person, consider adopting a “no phone distractions” policy during meetings. Phones are silenced and put away except for emergencies. Instead of giving people an excuse to reach for their mobile devices to look at your agenda, consider printing it out. Nobody likes wasting paper, but getting people’s eyes off their screens may be worth it.\n",
        "Speaking of agendas, yours, no matter the meeting type, should include target discussion times for each major topic. You might only need five minutes for some topics, while others may require 15 minutes or more. Mark those times down so participants know what the time priorities are. If you want to take that idea to the next level, do what podcasters do to keep track of time: Have a Pardon the Interruption-style countdown timer for each topic. You can find lots of countdown timer apps or sites online for free. BigTimer.net is one of the easiest to use. It works from any browser, can be customized, and doesn’t add any cost to your meetings.\n",
        "Now, let’s talk about food. Yes, food. Have you ever been in a meeting and had things go completely off track due to a birthday cake or a spread of food that takes up 10 or 15 minutes before a meeting? People filling up paper plates with goodies from a fruit and veggie tray can be a huge time suck, not to mention an annoyance for those joining online who can’t partake in the goodies.\n",
        "If you must have snacks for a meeting, make sure it’s grab-and-go food. Bagels are great. A breakfast taco bar with 10 kinds of salsa? Say goodbye to your target wrap-up time.\n",
        "Finally, if all the topics of discussion have been hit and action items assigned and there’s still time left on the meeting clock, don’t hesitate to adjourn early. You’ll be an office hero if you can help your fellow coworkers reclaim some of their time. Be vigilant: Don’t let long, inefficient meetings become the norm.\n",
        "''')\n",
        "\n",
        "summary(text, maxlength=200)"
      ],
      "execution_count": 13,
      "outputs": [
        {
          "output_type": "execute_result",
          "data": {
            "text/plain": [
              "'Meetings with too many participants are also likely to last longer. Ask yourself: Can we get everything done in 30 minutes? How about 15 minutes? Don’t overcommit on time you set aside in the calendar. Make sure there’s an agenda for all types of meetings, make sure there is a target discussion times for each major topic. If you’re the meeting scheduler, consider doing away with one-hour or 45-minute meetings unless they are mission-critical or involve many teams presenting updates. For in-person and virtual meetings, consider adopting a “no phone distractions” policy during meetings. For regular meetings, table social chat until after the meeting. If you want to take that idea to the next level, do what podcasters do to keep track of time: Have a Pardon the Interruption-style countdown timer for each topic. It works from any browser, it works from a browser, can be customized, doesn�'"
            ],
            "application/vnd.google.colaboratory.intrinsic+json": {
              "type": "string"
            }
          },
          "metadata": {},
          "execution_count": 13
        }
      ]
    },
    {
      "cell_type": "markdown",
      "metadata": {
        "id": "n2jndgE-JyWX"
      },
      "source": [
        "Notice how the summarizer built a sentence using parts of the document above. It takes a basic understanding of language in order to understand the first two sentences and how to combine them into a single transformative sentence."
      ]
    }
  ]
}